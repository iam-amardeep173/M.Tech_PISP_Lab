{
 "cells": [
  {
   "cell_type": "code",
   "execution_count": 1,
   "id": "2dbd7af4",
   "metadata": {},
   "outputs": [
    {
     "name": "stdout",
     "output_type": "stream",
     "text": [
      "Enter the Rollno:- 12192022\n",
      "Enter the first_name- Amardeep\n",
      "Ciphertext (c1, c2): (14, 11)\n",
      "Decrypted Roll No: 21\n"
     ]
    }
   ],
   "source": [
    "import random\n",
    "import hashlib\n",
    "\n",
    "# Function to compute the modular exponentiation (a^b mod m)\n",
    "def mod_exp(a, b, m):\n",
    "    return pow(a, b, m)\n",
    "\n",
    "# Function to generate ElGamal keys\n",
    "def generate_elgamal_keys(p, g, private_key):\n",
    "    # Calculate the public key: public_key = g^private_key mod p\n",
    "    public_key = mod_exp(g, private_key, p)\n",
    "    return public_key, private_key\n",
    "\n",
    "# Function to encrypt a message using the recipient's public key\n",
    "def elgamal_encrypt(plaintext, public_key, p, g):\n",
    "    k = random.randint(1, p - 2)  # Randomly select a number k\n",
    "    c1 = mod_exp(g, k, p)\n",
    "    s = mod_exp(public_key, k, p)\n",
    "    c2 = (plaintext * s) % p\n",
    "    return c1, c2\n",
    "\n",
    "# Function to decrypt the ciphertext using the private key\n",
    "def elgamal_decrypt(c1, c2, private_key, p):\n",
    "    s = mod_exp(c1, private_key, p)\n",
    "    plaintext = (c2 * mod_exp(s, -1, p)) % p\n",
    "    return plaintext\n",
    "\n",
    "# Diffie-Hellman parameters (usually shared between parties)\n",
    "p = 23  # A prime number\n",
    "g = 5   # A primitive root modulo p\n",
    "\n",
    "# Recipient's private key (keep it secret)\n",
    "recipient_private_key = random.randint(1, p - 1)\n",
    "\n",
    "# Generate recipient's public key\n",
    "recipient_public_key, _ = generate_elgamal_keys(p, g, recipient_private_key)\n",
    "\n",
    "# Your plaintext data (Roll No and First Name)\n",
    "roll_no = int(input(\"Enter the Rollno:- \"))\n",
    "first_name = input(\"Enter the first_name- \")\n",
    "#roll_no = 12345\n",
    "#first_name = \"Alice\"\n",
    "\n",
    "# Encryption\n",
    "c1, c2 = elgamal_encrypt(roll_no, recipient_public_key, p, g)\n",
    "print(\"Ciphertext (c1, c2):\", (c1, c2))\n",
    "\n",
    "# Decryption\n",
    "decrypted_roll_no = elgamal_decrypt(c1, c2, recipient_private_key, p)\n",
    "print(\"Decrypted Roll No:\", decrypted_roll_no)\n",
    "\n",
    "\n"
   ]
  },
  {
   "cell_type": "code",
   "execution_count": 26,
   "id": "57d8672c",
   "metadata": {},
   "outputs": [
    {
     "name": "stdout",
     "output_type": "stream",
     "text": [
      "Enter the Rollno:- 125563\n",
      "Enter the first_name- Amardeep\n",
      "Original Roll Number: 12345\n",
      "Encrypted Roll Number: (17, 1)\n",
      "Decrypted Roll Number: 11\n",
      "Original First Name: Amardeep\n",
      "Encrypted First Name: (11, 12)\n",
      "Decrypted First Name: \u0007\n"
     ]
    }
   ],
   "source": [
    "import random\n",
    "\n",
    "# Diffie-Hellman parameters\n",
    "p = 23  # A prime number\n",
    "g = 5   # A primitive root modulo p\n",
    "\n",
    "# Generate private key (a) and public key (A) using Diffie-Hellman\n",
    "a = random.randint(2, p - 2)\n",
    "A = (g ** a) % p\n",
    "\n",
    "# Receiver's private key (b) and public key (B)\n",
    "b = random.randint(2, p - 2)\n",
    "B = (g ** b) % p\n",
    "\n",
    "# Your roll number and first name\n",
    "#roll_number = \"12345\"\n",
    "#first_name = \"John\"\n",
    "roll_no = int(input(\"Enter the Rollno:- \"))\n",
    "first_name = input(\"Enter the first_name- \")\n",
    "\n",
    "# ElGamal Encryption\n",
    "def encrypt(message, recipient_public_key):\n",
    "    k = random.randint(2, p - 2)\n",
    "    shared_secret = (recipient_public_key ** a) % p\n",
    "    c1 = (g ** k) % p\n",
    "    c2 = (message * (shared_secret ** k)) % p\n",
    "    return c1, c2\n",
    "\n",
    "# ElGamal Decryption\n",
    "def decrypt(c1, c2):\n",
    "    shared_secret = (c1 ** b) % p\n",
    "    inverted_shared_secret = pow(shared_secret, -1, p)\n",
    "    decrypted_message = (c2 * inverted_shared_secret) % p\n",
    "    return decrypted_message\n",
    "\n",
    "# Encrypt and Decrypt your roll number and first name\n",
    "encrypted_roll_number = encrypt(int(roll_number), B)\n",
    "encrypted_first_name = encrypt(int.from_bytes(first_name.encode(), 'big'), B)\n",
    "\n",
    "decrypted_roll_number = decrypt(*encrypted_roll_number)\n",
    "decrypted_first_name_bytes = decrypt(*encrypted_first_name)\n",
    "decrypted_first_name = decrypted_first_name_bytes.to_bytes((decrypted_first_name_bytes.bit_length() + 7) // 8, byteorder='big').decode()\n",
    "\n",
    "print(\"Original Roll Number:\", roll_number)\n",
    "print(\"Encrypted Roll Number:\", encrypted_roll_number)\n",
    "print(\"Decrypted Roll Number:\", decrypted_roll_number)\n",
    "print(\"Original First Name:\", first_name)\n",
    "print(\"Encrypted First Name:\", encrypted_first_name)\n",
    "print(\"Decrypted First Name:\", decrypted_first_name)\n"
   ]
  },
  {
   "cell_type": "code",
   "execution_count": null,
   "id": "2a58a851",
   "metadata": {},
   "outputs": [],
   "source": []
  }
 ],
 "metadata": {
  "kernelspec": {
   "display_name": "Python 3 (ipykernel)",
   "language": "python",
   "name": "python3"
  },
  "language_info": {
   "codemirror_mode": {
    "name": "ipython",
    "version": 3
   },
   "file_extension": ".py",
   "mimetype": "text/x-python",
   "name": "python",
   "nbconvert_exporter": "python",
   "pygments_lexer": "ipython3",
   "version": "3.9.13"
  }
 },
 "nbformat": 4,
 "nbformat_minor": 5
}
