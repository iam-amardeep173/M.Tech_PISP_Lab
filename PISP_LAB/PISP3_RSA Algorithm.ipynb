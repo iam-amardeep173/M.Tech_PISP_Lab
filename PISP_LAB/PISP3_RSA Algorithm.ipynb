{
 "cells": [
  {
   "cell_type": "markdown",
   "id": "dd5817b6",
   "metadata": {},
   "source": [
    "# RSA Algorithm"
   ]
  },
  {
   "cell_type": "code",
   "execution_count": 1,
   "id": "39200579",
   "metadata": {},
   "outputs": [
    {
     "name": "stdout",
     "output_type": "stream",
     "text": [
      "Name:- Amardeep\n",
      "Original Message: Amardeep\n",
      "Encrypted Message: [160227, 109277, 59189, 62712, 52397, 54604, 54604, 140330]\n",
      "Decrypted Message: Amardeep\n"
     ]
    }
   ],
   "source": [
    "import random\n",
    "import math\n",
    "\n",
    "#function to check if a number is prime\n",
    "def is_prime(n):\n",
    "    if n <= 1:\n",
    "        return False\n",
    "    if n <= 3:\n",
    "        return True\n",
    "    if n % 2 == 0 or n % 3 == 0:\n",
    "        return False\n",
    "    i = 5\n",
    "    while i * i <= n:\n",
    "        if n % i == 0 or n % (i + 2) == 0:\n",
    "            return False\n",
    "        i += 6\n",
    "    return True\n",
    "\n",
    "#  function to find the greatest common divisor\n",
    "def gcd(a, b):\n",
    "    while b:\n",
    "        a, b = b, a % b\n",
    "    return a\n",
    "\n",
    "#  function to find the modular multiplicative inverse\n",
    "def mod_inverse(a, m):\n",
    "    m0, x0, x1 = m, 0, 1\n",
    "    while a > 1:\n",
    "        q = a // m\n",
    "        m, a = a % m, m\n",
    "        x0, x1 = x1 - q * x0, x0\n",
    "    return x1 + m0 if x1 < 0 else x1\n",
    "\n",
    "# Generate random prime numbers p and q\n",
    "def generate_primes():\n",
    "    while True:\n",
    "        p = random.randint(100, 1000)\n",
    "        if is_prime(p):\n",
    "            break\n",
    "    while True:\n",
    "        q = random.randint(100, 1000)\n",
    "        if is_prime(q) and q != p:\n",
    "            break\n",
    "    return p, q\n",
    "\n",
    "# Generate RSA keys\n",
    "def generate_rsa_keys():\n",
    "    p, q = generate_primes()\n",
    "    n = p * q\n",
    "    phi = (p - 1) * (q - 1)\n",
    "\n",
    "    e = random.randint(1, phi)\n",
    "    while gcd(e, phi) != 1:\n",
    "        e = random.randint(1, phi)\n",
    "\n",
    "    d = mod_inverse(e, phi)\n",
    "    return (n, e), (n, d)\n",
    "\n",
    "# Encrypt message using RSA\n",
    "def encrypt(message, public_key):\n",
    "    n, e = public_key\n",
    "    encrypted_text = [pow(ord(char), e, n) for char in message]\n",
    "    return encrypted_text\n",
    "\n",
    "# Decrypt message using RSA\n",
    "def decrypt(ciphertext, private_key):\n",
    "    n, d = private_key\n",
    "    decrypted_text = ''.join([chr(pow(char, d, n)) for char in ciphertext])\n",
    "    return decrypted_text\n",
    "\n",
    "# Main function\n",
    "if __name__ == \"__main__\":\n",
    "    public_key, private_key = generate_rsa_keys()\n",
    "    name = input(\"Name:- \")\n",
    "    print(\"Original Message:\", name)\n",
    "    encrypted_message = encrypt(name, public_key)\n",
    "    print(\"Encrypted Message:\", encrypted_message)\n",
    "    decrypted_message = decrypt(encrypted_message, private_key)\n",
    "    print(\"Decrypted Message:\", decrypted_message)\n"
   ]
  },
  {
   "cell_type": "code",
   "execution_count": null,
   "id": "380fa07d",
   "metadata": {},
   "outputs": [],
   "source": []
  }
 ],
 "metadata": {
  "kernelspec": {
   "display_name": "Python 3 (ipykernel)",
   "language": "python",
   "name": "python3"
  },
  "language_info": {
   "codemirror_mode": {
    "name": "ipython",
    "version": 3
   },
   "file_extension": ".py",
   "mimetype": "text/x-python",
   "name": "python",
   "nbconvert_exporter": "python",
   "pygments_lexer": "ipython3",
   "version": "3.9.13"
  }
 },
 "nbformat": 4,
 "nbformat_minor": 5
}
