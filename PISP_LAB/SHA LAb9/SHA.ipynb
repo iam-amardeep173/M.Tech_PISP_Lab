{
 "cells": [
  {
   "cell_type": "code",
   "execution_count": 2,
   "id": "e7c9157f",
   "metadata": {},
   "outputs": [
    {
     "name": "stdout",
     "output_type": "stream",
     "text": [
      "Enter username: Amar@123\n",
      "Enter password: 121921\n",
      "Wrong password\n"
     ]
    }
   ],
   "source": [
    "import hashlib\n",
    "import binascii\n",
    "\n",
    "# Function to hash a password using SHA-1\n",
    "def hash_password(password):\n",
    "    sha1 = hashlib.sha1()\n",
    "    sha1.update(password.encode('utf-8'))\n",
    "    return binascii.hexlify(sha1.digest()).decode('utf-8')\n",
    "\n",
    "# Create a file to store username and password hashes\n",
    "def create_password_file(users):\n",
    "    with open('passwords.txt', 'w') as file:\n",
    "        for username, password in users.items():\n",
    "            hashed_password = hash_password(password)\n",
    "            file.write(f\"{username} {hashed_password}\\n\")\n",
    "\n",
    "# Test if a provided password is correct\n",
    "def check_password(username, password, password_file):\n",
    "    with open(password_file, 'r') as file:\n",
    "        for line in file:\n",
    "            stored_username, stored_hashed_password = line.strip().split()\n",
    "            if username == stored_username:\n",
    "                if hash_password(password) == stored_hashed_password:\n",
    "                    return \"Correct password\"\n",
    "                else:\n",
    "                    return \"Wrong password\"\n",
    "    return \"User not found\"\n",
    "\n",
    "# Example users and passwords\n",
    "users = {\n",
    "         \"Amar@0123\": \"121921\",\n",
    "         \"Amar@123\": \"AmDe9519\",\n",
    "         \"Amar@1236\": \"Amar1236\",\n",
    "         \"Amar@1245\": \"123645\",\n",
    "         \"Amar@9519\": \"12192022\",\n",
    "         \"Amar@0706\": \"Amardeep173\",\n",
    "         \"iam_amardeep173\": \"1245\",\n",
    "         \"amardeep173\": \"Amardeep1237\",\n",
    "         \"iam-amardeep173\": \"Amar1436\"\n",
    "}\n",
    "\n",
    "# Create the password file\n",
    "create_password_file(users)\n",
    "\n",
    "# Test a username and password\n",
    "# Test the password\n",
    "username = input(\"Enter username: \")\n",
    "password = input(\"Enter password: \")\n",
    "result = check_password(username, password, 'passwords.txt')\n",
    "print(result)\n"
   ]
  },
  {
   "cell_type": "code",
   "execution_count": null,
   "id": "9d992024",
   "metadata": {},
   "outputs": [],
   "source": []
  }
 ],
 "metadata": {
  "kernelspec": {
   "display_name": "Python 3 (ipykernel)",
   "language": "python",
   "name": "python3"
  },
  "language_info": {
   "codemirror_mode": {
    "name": "ipython",
    "version": 3
   },
   "file_extension": ".py",
   "mimetype": "text/x-python",
   "name": "python",
   "nbconvert_exporter": "python",
   "pygments_lexer": "ipython3",
   "version": "3.9.13"
  }
 },
 "nbformat": 4,
 "nbformat_minor": 5
}
