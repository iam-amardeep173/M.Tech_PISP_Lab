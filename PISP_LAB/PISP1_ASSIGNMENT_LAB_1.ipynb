{
 "cells": [
  {
   "cell_type": "code",
   "execution_count": 1,
   "id": "624c8772",
   "metadata": {},
   "outputs": [
    {
     "name": "stdout",
     "output_type": "stream",
     "text": [
      "Enter the messageAmARDEEP\n",
      "Text : AmARDEEP\n",
      "Shift : 3\n",
      "Cipher :  DpDUGHHS\n"
     ]
    }
   ],
   "source": [
    "#Encryption\n",
    "def encrypt(text,key):\n",
    "    result = \" \"\n",
    "    for i in range(len(text)):\n",
    "        char = text[i]\n",
    "        \n",
    "        if (char.isupper()):\n",
    "            result = result+chr((ord(char)+key-65)%26+65)\n",
    "            \n",
    "        else:\n",
    "            result = result+chr((ord(char)+key-97)%26+97)\n",
    "            \n",
    "    return result\n",
    "text = input(\"Enter the message\")\n",
    "key = 3\n",
    "print(\"Text : \"+text)\n",
    "print(\"Shift : \"+str(key))\n",
    "print(\"Cipher : \"+ encrypt(text,key))\n"
   ]
  },
  {
   "cell_type": "code",
   "execution_count": 2,
   "id": "9a4c79cb",
   "metadata": {},
   "outputs": [
    {
     "name": "stdout",
     "output_type": "stream",
     "text": [
      "Enter Decrypted valueDpDUGHHS\n",
      "Text : DpDUGHHS\n",
      "Shift : 3\n",
      "Cipher :  AmARDEEP\n"
     ]
    }
   ],
   "source": [
    "#Decryption\n",
    "def decrypt(text,key):\n",
    "    result = \" \"\n",
    "    for i in range(len(text)):\n",
    "        char = text[i]\n",
    "        \n",
    "        if (char.isupper()):\n",
    "            result = result+chr((ord(char)-key-65)%26+65)\n",
    "            \n",
    "        else:\n",
    "            result = result+chr((ord(char)-key-97)%26+97)\n",
    "            \n",
    "    return result\n",
    "text = input(\"Enter Decrypted value\")\n",
    "key = 3\n",
    "print(\"Text : \"+text)\n",
    "print(\"Shift : \"+str(key))\n",
    "print(\"Cipher : \"+ decrypt(text,key))\n"
   ]
  },
  {
   "cell_type": "code",
   "execution_count": 3,
   "id": "7828bea2",
   "metadata": {},
   "outputs": [
    {
     "name": "stdout",
     "output_type": "stream",
     "text": [
      "\n",
      "Enter The Decrypted Text - Udg bhv xc Tcvaxhw iwtgt pgt iltcin hxm ztnh, xu ndj peean dct puitg pcdiwtg dc tcrgneits bhv pcs dqhtgkt imi dct du iwt igpchudgbts imi xh gtpspqat\n",
      "Decrypted Text using key  0 :  Udg bhv xc Tcvaxhw iwtgt pgt iltcin hxm ztnhz xu ndj peean dct puitg pcdiwtg dc tcrgneits bhv pcs dqhtgkt imi dct du iwt igpchudgbts imi xh gtpspqat\n",
      "Decrypted Text using key  1 :  Tcf agu wb Sbuzwgv hvsfs ofs hksbhm gwl ysmgy wt mci oddzm cbs othsf obchvsf cb sbqfmdhsr agu obr cpgsfjs hlh cbs ct hvs hfobgtcfasr hlh wg fsoropzs\n",
      "Decrypted Text using key  2 :  Sbe zft va Ratyvfu gurer ner gjragl fvk xrlfx vs lbh nccyl bar nsgre nabgure ba rapelcgrq zft naq bofreir gkg bar bs gur genafsbezrq gkg vf ernqnoyr\n",
      "Decrypted Text using key  3 :  Rad yes uz Qzsxuet ftqdq mdq fiqzfk euj wqkew ur kag mbbxk azq mrfqd mzaftqd az qzodkbfqp yes mzp aneqdhq fjf azq ar ftq fdmzeradyqp fjf ue dqmpmnxq\n",
      "Decrypted Text using key  4 :  Qzc xdr ty Pyrwtds espcp lcp ehpyej dti vpjdv tq jzf laawj zyp lqepc lyzespc zy pyncjaepo xdr lyo zmdpcgp eie zyp zq esp eclydqzcxpo eie td cplolmwp\n",
      "Decrypted Text using key  5 :  Pyb wcq sx Oxqvscr drobo kbo dgoxdi csh uoicu sp iye kzzvi yxo kpdob kxydrob yx oxmbizdon wcq kxn ylcobfo dhd yxo yp dro dbkxcpybwon dhd sc boknklvo\n",
      "Decrypted Text using key  6 :  Oxa vbp rw Nwpurbq cqnan jan cfnwch brg tnhbt ro hxd jyyuh xwn jocna jwxcqna xw nwlahycnm vbp jwm xkbnaen cgc xwn xo cqn cajwboxavnm cgc rb anjmjkun\n",
      "Decrypted Text using key  7 :  Nwz uao qv Mvotqap bpmzm izm bemvbg aqf smgas qn gwc ixxtg wvm inbmz ivwbpmz wv mvkzgxbml uao ivl wjamzdm bfb wvm wn bpm bzivanwzuml bfb qa zmilijtm\n",
      "Decrypted Text using key  8 :  Mvy tzn pu Lunspzo aolyl hyl adluaf zpe rlfzr pm fvb hwwsf vul hmaly huvaoly vu lujyfwalk tzn huk vizlycl aea vul vm aol ayhuzmvytlk aea pz ylhkhisl\n",
      "Decrypted Text using key  9 :  Lux sym ot Ktmroyn znkxk gxk zcktze yod qkeyq ol eua gvvre utk glzkx gtuznkx ut ktixevzkj sym gtj uhykxbk zdz utk ul znk zxgtyluxskj zdz oy xkgjghrk\n",
      "Decrypted Text using key  10 :  Ktw rxl ns Jslqnxm ymjwj fwj ybjsyd xnc pjdxp nk dtz fuuqd tsj fkyjw fstymjw ts jshwduyji rxl fsi tgxjwaj ycy tsj tk ymj ywfsxktwrji ycy nx wjfifgqj\n",
      "Decrypted Text using key  11 :  Jsv qwk mr Irkpmwl xlivi evi xairxc wmb oicwo mj csy ettpc sri ejxiv ersxliv sr irgvctxih qwk erh sfwivzi xbx sri sj xli xverwjsvqih xbx mw viehefpi\n",
      "Decrypted Text using key  12 :  Iru pvj lq Hqjolvk wkhuh duh wzhqwb vla nhbvn li brx dssob rqh diwhu dqrwkhu rq hqfubswhg pvj dqg revhuyh waw rqh ri wkh wudqviruphg waw lv uhdgdeoh\n",
      "Decrypted Text using key  13 :  Hqt oui kp Gpinkuj vjgtg ctg vygpva ukz mgaum kh aqw crrna qpg chvgt cpqvjgt qp gpetarvgf oui cpf qdugtxg vzv qpg qh vjg vtcpuhqtogf vzv ku tgcfcdng\n",
      "Decrypted Text using key  14 :  Gps nth jo Fohmjti uifsf bsf uxfouz tjy lfztl jg zpv bqqmz pof bgufs bopuifs po fodszqufe nth boe pctfswf uyu pof pg uif usbotgpsnfe uyu jt sfbebcmf\n",
      "Decrypted Text using key  15 :  For msg in English there are twenty six keysk if you apply one after another on encrypted msg and observe txt one of the transformed txt is readable\n",
      "Decrypted Text using key  16 :  Enq lrf hm Dmfkhrg sgdqd zqd svdmsx rhw jdxrj he xnt zookx nmd zesdq zmnsgdq nm dmbqxosdc lrf zmc nardqud sws nmd ne sgd sqzmrenqldc sws hr qdzczakd\n",
      "Decrypted Text using key  17 :  Dmp kqe gl Clejgqf rfcpc ypc ruclrw qgv icwqi gd wms ynnjw mlc ydrcp ylmrfcp ml clapwnrcb kqe ylb mzqcptc rvr mlc md rfc rpylqdmpkcb rvr gq pcybyzjc\n",
      "Decrypted Text using key  18 :  Clo jpd fk Bkdifpe qebob xob qtbkqv pfu hbvph fc vlr xmmiv lkb xcqbo xklqebo lk bkzovmqba jpd xka lypbosb quq lkb lc qeb qoxkpclojba quq fp obxaxyib\n",
      "Decrypted Text using key  19 :  Bkn ioc ej Ajcheod pdana wna psajpu oet gauog eb ukq wllhu kja wbpan wjkpdan kj ajynulpaz ioc wjz kxoanra ptp kja kb pda pnwjobkniaz ptp eo nawzwxha\n",
      "Decrypted Text using key  20 :  Ajm hnb di Zibgdnc oczmz vmz orziot nds fztnf da tjp vkkgt jiz vaozm vijoczm ji zixmtkozy hnb viy jwnzmqz oso jiz ja ocz omvinajmhzy oso dn mzvyvwgz\n",
      "Decrypted Text using key  21 :  Zil gma ch Yhafcmb nbyly uly nqyhns mcr eysme cz sio ujjfs ihy uznyl uhinbyl ih yhwlsjnyx gma uhx ivmylpy nrn ihy iz nby nluhmzilgyx nrn cm lyuxuvfy\n",
      "Decrypted Text using key  22 :  Yhk flz bg Xgzebla maxkx tkx mpxgmr lbq dxrld by rhn tiier hgx tymxk tghmaxk hg xgvkrimxw flz tgw hulxkox mqm hgx hy max mktglyhkfxw mqm bl kxtwtuex\n",
      "Decrypted Text using key  23 :  Xgj eky af Wfydakz lzwjw sjw lowflq kap cwqkc ax qgm shhdq gfw sxlwj sfglzwj gf wfujqhlwv eky sfv gtkwjnw lpl gfw gx lzw ljsfkxgjewv lpl ak jwsvstdw\n",
      "Decrypted Text using key  24 :  Wfi djx ze Vexczjy kyviv riv knvekp jzo bvpjb zw pfl rggcp fev rwkvi refkyvi fe vetipgkvu djx reu fsjvimv kok fev fw kyv kirejwfidvu kok zj ivrurscv\n",
      "Decrypted Text using key  25 :  Veh ciw yd Udwbyix jxuhu qhu jmudjo iyn auoia yv oek qffbo edu qvjuh qdejxuh ed udshofjut ciw qdt eriuhlu jnj edu ev jxu jhqdivehcut jnj yi huqtqrbu\n"
     ]
    }
   ],
   "source": [
    "#Brute Force\n",
    "\n",
    "text = input(\"\\nEnter The Decrypted Text - \")\n",
    "\n",
    "def decrypt(text,key):\n",
    "    result = \" \"\n",
    "    for i in range(len(text)):\n",
    "        char = text[i]\n",
    "        \n",
    "        if (char.isupper()):\n",
    "            result = result+chr((ord(char)-key-65)%26+65)\n",
    "            \n",
    "        elif(char==\" \"):\n",
    "            result+=\" \"\n",
    "            \n",
    "        else:\n",
    "            result = result+chr((ord(char)-key-97)%26+97)\n",
    "            \n",
    "    return result\n",
    "for key in range(26):\n",
    "    decrypts = decrypt(text,key)\n",
    "    print(\"Decrypted Text using key \",key,\":\",decrypts)\n",
    "\n"
   ]
  },
  {
   "cell_type": "code",
   "execution_count": 4,
   "id": "5ccf14b2",
   "metadata": {},
   "outputs": [
    {
     "name": "stdout",
     "output_type": "stream",
     "text": [
      "T: 18\n",
      "I: 12\n",
      "G: 10\n",
      "C: 10\n",
      "D: 9\n",
      "H: 8\n",
      "P: 8\n",
      "U: 5\n",
      "X: 5\n",
      "N: 5\n",
      "W: 4\n",
      "S: 4\n",
      "B: 3\n",
      "V: 3\n",
      "A: 3\n",
      "M: 3\n",
      "E: 3\n",
      "Q: 2\n",
      "L: 1\n",
      "Z: 1\n",
      "J: 1\n",
      "R: 1\n",
      "K: 1\n"
     ]
    }
   ],
   "source": [
    "#Frequency\n",
    "def frequency(text):\n",
    "    frequency_count = {}\n",
    "    for char in text:\n",
    "        if char.isalpha():\n",
    "            char = char.upper()\n",
    "            if char in frequency_count:\n",
    "                frequency_count[char] += 1\n",
    "            else:\n",
    "                frequency_count[char] = 1\n",
    "                \n",
    "    sorted_frequency = sorted(frequency_count.items(),key = lambda x: x[1], reverse= True)\n",
    "    \n",
    "    return sorted_frequency\n",
    "ciphertext = \"Udg bhv xc Tcvaxhw iwtgt pgt iltcin hxm ztnh, xu ndj peean dct puitg pcdiwtg dc tcrgneits bhv pcs dqhtgkt imi dct du iwt igpchudgbts imi xh gtpspqat\"\n",
    "frequency_result = frequency(text)\n",
    "\n",
    "for char, count in frequency_result:\n",
    "    print(f\"{char}: {count}\")\n",
    "                "
   ]
  }
 ],
 "metadata": {
  "kernelspec": {
   "display_name": "Python 3 (ipykernel)",
   "language": "python",
   "name": "python3"
  },
  "language_info": {
   "codemirror_mode": {
    "name": "ipython",
    "version": 3
   },
   "file_extension": ".py",
   "mimetype": "text/x-python",
   "name": "python",
   "nbconvert_exporter": "python",
   "pygments_lexer": "ipython3",
   "version": "3.9.13"
  }
 },
 "nbformat": 4,
 "nbformat_minor": 5
}
