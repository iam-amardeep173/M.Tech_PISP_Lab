{
 "cells": [
  {
   "cell_type": "code",
   "execution_count": 2,
   "id": "3051f3e7",
   "metadata": {},
   "outputs": [
    {
     "name": "stdout",
     "output_type": "stream",
     "text": [
      "Original message: It is rail fence cipher text\n",
      "Encrypted message: I sri ec ihrtxti alfnecpe et\n",
      "Decrypted message: It is rail fence cipher text\n"
     ]
    }
   ],
   "source": [
    "#Implementation of Rail Fence\n",
    "\n",
    "def rail_fence_encrypt(message):\n",
    "    rail1 = \"\"\n",
    "    rail2 = \"\"\n",
    "    switch = True  # To switch between rails\n",
    "    \n",
    "    for char in message:\n",
    "        if switch:\n",
    "            rail1 += char\n",
    "        else:\n",
    "            rail2 += char\n",
    "        switch = not switch\n",
    "    \n",
    "    encrypted_message = rail1 + rail2\n",
    "    return encrypted_message\n",
    "\n",
    "def rail_fence_decrypt(ciphertext):\n",
    "    half_length = len(ciphertext) // 2\n",
    "    rail1 = ciphertext[:half_length]\n",
    "    rail2 = ciphertext[half_length:]\n",
    "    \n",
    "    decrypted_message = \"\"\n",
    "    for i in range(half_length):\n",
    "        decrypted_message += rail1[i] + rail2[i]\n",
    "    \n",
    "    # If the length of the ciphertext is odd, add the last character from rail2\n",
    "    if len(ciphertext) % 2 == 1:\n",
    "        decrypted_message += rail2[-1]\n",
    "    2\n",
    "    return decrypted_message\n",
    "\n",
    "message = \"It is rail fence cipher text\"\n",
    "encrypted = rail_fence_encrypt(message)\n",
    "decrypted = rail_fence_decrypt(encrypted)\n",
    "\n",
    "print(\"Original message:\", message)\n",
    "print(\"Encrypted message:\", encrypted)\n",
    "print(\"Decrypted message:\", decrypted)\n"
   ]
  },
  {
   "cell_type": "code",
   "execution_count": 4,
   "id": "7b17e048",
   "metadata": {},
   "outputs": [
    {
     "name": "stdout",
     "output_type": "stream",
     "text": [
      "Enter the message you want to encrypt: Itisrailfenceciphertext\n",
      "The encrypted message is :  Ianpe  tichx  ileet  sfcrx  reitx  \n",
      "The decrypted message is :  Itisrailfenceciphertextxx\n"
     ]
    }
   ],
   "source": [
    "#COLUMNAR TRANSPOSITION CIPHER\n",
    "def main():\n",
    "    str = input(\"Enter the message you want to encrypt: \")\n",
    "    n= len(str)\n",
    "    while n %5 != 0:\n",
    "        str += 'x'\n",
    "        n += 1\n",
    "    mat = [['' for _ in range(5)]for  _ in range(5)]\n",
    "    x = 0\n",
    "    for i in range(5):\n",
    "        for j in range(5):\n",
    "            mat[i][j] = str[x]\n",
    "            x += 1\n",
    "    en_str = ''     \n",
    "    for i in range(5):\n",
    "        for j in range(5):\n",
    "            en_str += mat[j][i]\n",
    "    print(\"The encrypted message is : \", end=' ')\n",
    "    itr = 0\n",
    "    for i in range(5):\n",
    "        for j in range(5):\n",
    "            print(en_str[itr], end='')\n",
    "            itr += 1\n",
    "        print(\" \", end=' ')\n",
    "    print()\n",
    "         # Decryption\n",
    "    de_str = ''\n",
    "    for j in range(5):\n",
    "        for i in range(5):\n",
    "            de_str += mat[j][i]\n",
    "    print(\"The decrypted message is : \", de_str)\n",
    "if __name__ == \"__main__\":\n",
    "    main()"
   ]
  },
  {
   "cell_type": "code",
   "execution_count": null,
   "id": "15cf36fe",
   "metadata": {},
   "outputs": [],
   "source": []
  },
  {
   "cell_type": "code",
   "execution_count": null,
   "id": "c3e0bbd3",
   "metadata": {},
   "outputs": [],
   "source": []
  }
 ],
 "metadata": {
  "kernelspec": {
   "display_name": "Python 3 (ipykernel)",
   "language": "python",
   "name": "python3"
  },
  "language_info": {
   "codemirror_mode": {
    "name": "ipython",
    "version": 3
   },
   "file_extension": ".py",
   "mimetype": "text/x-python",
   "name": "python",
   "nbconvert_exporter": "python",
   "pygments_lexer": "ipython3",
   "version": "3.9.13"
  }
 },
 "nbformat": 4,
 "nbformat_minor": 5
}
