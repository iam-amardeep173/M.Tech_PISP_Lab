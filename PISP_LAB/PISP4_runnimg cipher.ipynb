{
 "cells": [
  {
   "cell_type": "code",
   "execution_count": 15,
   "id": "23cf7bdf",
   "metadata": {},
   "outputs": [
    {
     "name": "stdout",
     "output_type": "stream",
     "text": [
      "Enter the Plaintext :- Amar Deep\n",
      "Enter the Running Key: AMAN\n",
      "Plaintext: Amar Deep\n",
      "Key: AMAN\n",
      "Encrypted text: AYAE PERP\n"
     ]
    }
   ],
   "source": [
    "#Implement Running key cipher\n",
    "# As Parallel Caesar ciphers – poly-alphabetic cipher\n",
    "\n",
    "def running_key_cipher(text, key):\n",
    "    text = text.upper()  # Convert text to uppercase for simplicity\n",
    "    key = key.upper()    # Convert key to uppercase for consistency\n",
    "\n",
    "    encrypted_text = []\n",
    "\n",
    "    for i in range(len(text)):\n",
    "        if text[i].isalpha():\n",
    "            # Calculate the shift value based on the key\n",
    "            shift = ord(key[i % len(key)]) - ord('A')\n",
    "\n",
    "            # Encrypt the current character using Caesar cipher\n",
    "            if text[i].isupper():\n",
    "                encrypted_char = chr(((ord(text[i]) - ord('A') + shift) % 26) + ord('A'))\n",
    "                \n",
    "            elif(char==\" \"):\n",
    "                result+=\" \"\n",
    "                \n",
    "                \n",
    "            else:\n",
    "                encrypted_char = chr(((ord(text[i]) - ord('a') + shift) % 26) + ord('a'))\n",
    "            \n",
    "            encrypted_text.append(encrypted_char)\n",
    "        else:\n",
    "            # If the character is not alphabetic, keep it as it is\n",
    "            encrypted_text.append(text[i])\n",
    "\n",
    "    return ''.join(encrypted_text)\n",
    "\n",
    "def main():\n",
    "    plaintext = input(\"Enter the Plaintext :- \")  # The text to be encrypted\n",
    "    key = input(\"Enter the Running Key: \")                       #\"SECRET\"# The running key\n",
    "\n",
    "    encrypted_text = running_key_cipher(plaintext, key)\n",
    "    print(\"Plaintext:\", plaintext)\n",
    "    print(\"Key:\", key)\n",
    "    print(\"Encrypted text:\", encrypted_text)\n",
    "\n",
    "if __name__ == \"__main__\":\n",
    "    main()\n"
   ]
  },
  {
   "cell_type": "code",
   "execution_count": 5,
   "id": "32af06ab",
   "metadata": {},
   "outputs": [
    {
     "name": "stdout",
     "output_type": "stream",
     "text": [
      "Enter the plaintext :- Amardeep\n",
      "Key :- Amar\n",
      "Encrypted Text: Ayaidqeg\n",
      "Decrypted Text: Amardeep\n"
     ]
    }
   ],
   "source": [
    "#Implement Running key cipher\n",
    "# As Vigenère cipher\n",
    "def encrypt_running_key_vigenere(plaintext, key):\n",
    "    encrypted_text = \"\"\n",
    "    key = key.upper()  # Convert the key to uppercase for consistency\n",
    "    \n",
    "    for i in range(len(plaintext)):\n",
    "        if plaintext[i].isalpha():\n",
    "            # Calculate the shift value based on the key\n",
    "            key_char = key[i % len(key)]\n",
    "            shift = ord(key_char) - ord('A')\n",
    "            \n",
    "            # Encrypt the current character using the shift\n",
    "            if plaintext[i].isupper():\n",
    "                encrypted_char = chr((ord(plaintext[i]) - ord('A') + shift) % 26 + ord('A'))\n",
    "            else:\n",
    "                encrypted_char = chr((ord(plaintext[i]) - ord('a') + shift) % 26 + ord('a'))\n",
    "        else:\n",
    "            # If the character is not alphabetic, leave it unchanged\n",
    "            encrypted_char = plaintext[i]\n",
    "        \n",
    "        encrypted_text += encrypted_char\n",
    "\n",
    "    return encrypted_text\n",
    "\n",
    "def decrypt_running_key_vigenere(ciphertext, key):\n",
    "    decrypted_text = \"\"\n",
    "    key = key.upper()  # Convert the key to uppercase for consistency\n",
    "    \n",
    "    for i in range(len(ciphertext)):\n",
    "        if ciphertext[i].isalpha():\n",
    "            # Calculate the shift value based on the key\n",
    "            key_char = key[i % len(key)]\n",
    "            shift = ord(key_char) - ord('A')\n",
    "            \n",
    "            # Decrypt the current character using the shift\n",
    "            if ciphertext[i].isupper():\n",
    "                decrypted_char = chr((ord(ciphertext[i]) - ord('A') - shift) % 26 + ord('A'))\n",
    "            else:\n",
    "                decrypted_char = chr((ord(ciphertext[i]) - ord('a') - shift) % 26 + ord('a'))\n",
    "        else:\n",
    "            # If the character is not alphabetic, leave it unchanged\n",
    "            decrypted_char = ciphertext[i]\n",
    "        \n",
    "        decrypted_text += decrypted_char\n",
    "\n",
    "    return decrypted_text\n",
    "\n",
    "# Example usage:\n",
    "plaintext =input(\"Enter the plaintext :- \")\n",
    "#plaintext = \"AMARDEEP\"\n",
    "#key = \"KEYWORD\"\n",
    "key = input(\"Key :- \")\n",
    "encrypted_text = encrypt_running_key_vigenere(plaintext, key)\n",
    "print(\"Encrypted Text:\", encrypted_text)\n",
    "\n",
    "decrypted_text = decrypt_running_key_vigenere(encrypted_text, key)\n",
    "print(\"Decrypted Text:\", decrypted_text)\n"
   ]
  },
  {
   "cell_type": "code",
   "execution_count": null,
   "id": "14409322",
   "metadata": {},
   "outputs": [],
   "source": []
  },
  {
   "cell_type": "code",
   "execution_count": null,
   "id": "494cf5c4",
   "metadata": {},
   "outputs": [],
   "source": []
  },
  {
   "cell_type": "code",
   "execution_count": null,
   "id": "a0ba6f23",
   "metadata": {},
   "outputs": [],
   "source": []
  },
  {
   "cell_type": "code",
   "execution_count": null,
   "id": "3b407710",
   "metadata": {},
   "outputs": [],
   "source": []
  },
  {
   "cell_type": "code",
   "execution_count": null,
   "id": "d2ee72ef",
   "metadata": {},
   "outputs": [],
   "source": []
  },
  {
   "cell_type": "code",
   "execution_count": null,
   "id": "095000db",
   "metadata": {},
   "outputs": [],
   "source": []
  },
  {
   "cell_type": "code",
   "execution_count": null,
   "id": "30030d2c",
   "metadata": {},
   "outputs": [],
   "source": []
  },
  {
   "cell_type": "code",
   "execution_count": null,
   "id": "f65c17f3",
   "metadata": {},
   "outputs": [],
   "source": []
  },
  {
   "cell_type": "code",
   "execution_count": null,
   "id": "e1b26401",
   "metadata": {},
   "outputs": [],
   "source": []
  },
  {
   "cell_type": "code",
   "execution_count": null,
   "id": "89e6655c",
   "metadata": {},
   "outputs": [],
   "source": []
  },
  {
   "cell_type": "code",
   "execution_count": null,
   "id": "6405b2bf",
   "metadata": {},
   "outputs": [],
   "source": []
  },
  {
   "cell_type": "code",
   "execution_count": null,
   "id": "720b1a2d",
   "metadata": {},
   "outputs": [],
   "source": []
  },
  {
   "cell_type": "code",
   "execution_count": 14,
   "id": "0c366605",
   "metadata": {},
   "outputs": [
    {
     "name": "stdout",
     "output_type": "stream",
     "text": [
      "Enter the plaintextAmar Deep\n",
      "Plaintext: Amar Deep\n",
      "Key: SECRET\n",
      "Encrypted text: SQCI HXWT\n",
      "\n",
      "Decrypted text: AMAR DEEP\n"
     ]
    }
   ],
   "source": [
    "#Implement Running key cipher\n",
    "# Encrypt msg.\n",
    "# Decrypt msg.\n",
    "\n",
    "def running_key_cipher(text, key, encrypt=True):\n",
    "    text = text.upper()  # Convert text to uppercase for simplicity\n",
    "    key = key.upper()    # Convert key to uppercase for consistency\n",
    "\n",
    "    result = []\n",
    "    key_index = 0\n",
    "\n",
    "    for char in text:\n",
    "        if char.isalpha():\n",
    "            # Calculate the shift value based on the current key character\n",
    "            shift = ord(key[key_index % len(key)]) - ord('A')\n",
    "\n",
    "            # Encrypt or decrypt the current character using Vigenère cipher\n",
    "            if char.isupper():\n",
    "                if encrypt:\n",
    "                    encrypted_char = chr(((ord(char) - ord('A') + shift) % 26) + ord('A'))\n",
    "                else:\n",
    "                    decrypted_char = chr(((ord(char) - ord('A') - shift) % 26) + ord('A'))\n",
    "            else:\n",
    "                if encrypt:\n",
    "                    encrypted_char = chr(((ord(char) - ord('a') + shift) % 26) + ord('a'))\n",
    "                else:\n",
    "                    decrypted_char = chr(((ord(char) - ord('a') - shift) % 26) + ord('a'))\n",
    "\n",
    "            if encrypt:\n",
    "                result.append(encrypted_char)\n",
    "            else:\n",
    "                result.append(decrypted_char)\n",
    "\n",
    "            key_index += 1\n",
    "        else:\n",
    "            # If the character is not alphabetic, keep it as it is\n",
    "            result.append(char)\n",
    "\n",
    "    return ''.join(result)\n",
    "\n",
    "def main():\n",
    "    plaintext = input(\"Enter the plaintext\")  # The text to be encrypted\n",
    "    key = \"SECRET\"              # The running key\n",
    "\n",
    "    # Encryption\n",
    "    encrypted_text = running_key_cipher(plaintext, key, encrypt=True)\n",
    "    print(\"Plaintext:\", plaintext)\n",
    "    print(\"Key:\", key)\n",
    "    print(\"Encrypted text:\", encrypted_text)\n",
    "\n",
    "    # Decryption\n",
    "    decrypted_text = running_key_cipher(encrypted_text, key, encrypt=False)\n",
    "    print(\"\\nDecrypted text:\", decrypted_text)\n",
    "\n",
    "if __name__ == \"__main__\":\n",
    "    main()\n"
   ]
  },
  {
   "cell_type": "code",
   "execution_count": null,
   "id": "ea196ba8",
   "metadata": {},
   "outputs": [],
   "source": []
  },
  {
   "cell_type": "code",
   "execution_count": null,
   "id": "227cc0ee",
   "metadata": {},
   "outputs": [],
   "source": []
  }
 ],
 "metadata": {
  "kernelspec": {
   "display_name": "Python 3 (ipykernel)",
   "language": "python",
   "name": "python3"
  },
  "language_info": {
   "codemirror_mode": {
    "name": "ipython",
    "version": 3
   },
   "file_extension": ".py",
   "mimetype": "text/x-python",
   "name": "python",
   "nbconvert_exporter": "python",
   "pygments_lexer": "ipython3",
   "version": "3.9.13"
  }
 },
 "nbformat": 4,
 "nbformat_minor": 5
}
